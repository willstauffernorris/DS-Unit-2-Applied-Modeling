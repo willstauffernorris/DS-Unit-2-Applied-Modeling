{
 "cells": [
  {
   "cell_type": "code",
   "execution_count": 226,
   "metadata": {},
   "outputs": [],
   "source": [
    "import pandas as pd\n",
    "import matplotlib.pyplot as plt\n",
    "\n",
    "df = pd.read_csv('cleaned_and_wrangled.csv')"
   ]
  },
  {
   "cell_type": "markdown",
   "metadata": {},
   "source": [
    "# Baselines\n"
   ]
  },
  {
   "cell_type": "code",
   "execution_count": 227,
   "metadata": {},
   "outputs": [
    {
     "data": {
      "text/plain": [
       "Accessory    0.759163\n",
       "Boat B       0.094369\n",
       "Boat A       0.085662\n",
       "Boat D       0.035529\n",
       "Boat C       0.021064\n",
       "Boat E       0.004213\n",
       "Name: Product, dtype: float64"
      ]
     },
     "execution_count": 227,
     "metadata": {},
     "output_type": "execute_result"
    }
   ],
   "source": [
    "### My baselines:\n",
    "df['Product'].value_counts(normalize=True)\n",
    "### I want to predict what factors cause people to purchase accessories"
   ]
  },
  {
   "cell_type": "markdown",
   "metadata": {},
   "source": [
    "# Wrangling"
   ]
  },
  {
   "cell_type": "code",
   "execution_count": 228,
   "metadata": {},
   "outputs": [
    {
     "name": "stdout",
     "output_type": "stream",
     "text": [
      "<class 'numpy.int64'>\n",
      "<class 'numpy.int64'>\n",
      "(7121, 9)\n"
     ]
    },
    {
     "data": {
      "text/html": [
       "<div>\n",
       "<style scoped>\n",
       "    .dataframe tbody tr th:only-of-type {\n",
       "        vertical-align: middle;\n",
       "    }\n",
       "\n",
       "    .dataframe tbody tr th {\n",
       "        vertical-align: top;\n",
       "    }\n",
       "\n",
       "    .dataframe thead th {\n",
       "        text-align: right;\n",
       "    }\n",
       "</style>\n",
       "<table border=\"1\" class=\"dataframe\">\n",
       "  <thead>\n",
       "    <tr style=\"text-align: right;\">\n",
       "      <th></th>\n",
       "      <th>Transaction ID</th>\n",
       "      <th>Date</th>\n",
       "      <th>Product</th>\n",
       "      <th>Source</th>\n",
       "      <th>Count of Sessions</th>\n",
       "      <th>Quantity</th>\n",
       "      <th>Product Revenue</th>\n",
       "      <th>Landing Page</th>\n",
       "      <th>Device Category</th>\n",
       "    </tr>\n",
       "  </thead>\n",
       "  <tbody>\n",
       "    <tr>\n",
       "      <th>0</th>\n",
       "      <td>#11963</td>\n",
       "      <td>20191231</td>\n",
       "      <td>Accessory</td>\n",
       "      <td>knoji.com</td>\n",
       "      <td>5</td>\n",
       "      <td>1</td>\n",
       "      <td>$25.00</td>\n",
       "      <td>/cart</td>\n",
       "      <td>desktop</td>\n",
       "    </tr>\n",
       "    <tr>\n",
       "      <th>1</th>\n",
       "      <td>#11963</td>\n",
       "      <td>20191231</td>\n",
       "      <td>Boat A</td>\n",
       "      <td>knoji.com</td>\n",
       "      <td>5</td>\n",
       "      <td>1</td>\n",
       "      <td>$1,599.00</td>\n",
       "      <td>/cart</td>\n",
       "      <td>desktop</td>\n",
       "    </tr>\n",
       "    <tr>\n",
       "      <th>2</th>\n",
       "      <td>#11960</td>\n",
       "      <td>20191230</td>\n",
       "      <td>Boat C</td>\n",
       "      <td>affirm.com</td>\n",
       "      <td>3</td>\n",
       "      <td>1</td>\n",
       "      <td>$2,199.00</td>\n",
       "      <td>/checkout/thank_you</td>\n",
       "      <td>mobile</td>\n",
       "    </tr>\n",
       "    <tr>\n",
       "      <th>3</th>\n",
       "      <td>#11960</td>\n",
       "      <td>20191230</td>\n",
       "      <td>Accessory</td>\n",
       "      <td>affirm.com</td>\n",
       "      <td>3</td>\n",
       "      <td>1</td>\n",
       "      <td>$99.00</td>\n",
       "      <td>/checkout/thank_you</td>\n",
       "      <td>mobile</td>\n",
       "    </tr>\n",
       "    <tr>\n",
       "      <th>4</th>\n",
       "      <td>#11960</td>\n",
       "      <td>20191230</td>\n",
       "      <td>Accessory</td>\n",
       "      <td>affirm.com</td>\n",
       "      <td>3</td>\n",
       "      <td>1</td>\n",
       "      <td>$110.00</td>\n",
       "      <td>/checkout/thank_you</td>\n",
       "      <td>mobile</td>\n",
       "    </tr>\n",
       "  </tbody>\n",
       "</table>\n",
       "</div>"
      ],
      "text/plain": [
       "  Transaction ID      Date    Product      Source  Count of Sessions  \\\n",
       "0         #11963  20191231  Accessory   knoji.com                  5   \n",
       "1         #11963  20191231     Boat A   knoji.com                  5   \n",
       "2         #11960  20191230     Boat C  affirm.com                  3   \n",
       "3         #11960  20191230  Accessory  affirm.com                  3   \n",
       "4         #11960  20191230  Accessory  affirm.com                  3   \n",
       "\n",
       "   Quantity Product Revenue         Landing Page Device Category  \n",
       "0         1          $25.00                /cart         desktop  \n",
       "1         1       $1,599.00                /cart         desktop  \n",
       "2         1       $2,199.00  /checkout/thank_you          mobile  \n",
       "3         1          $99.00  /checkout/thank_you          mobile  \n",
       "4         1         $110.00  /checkout/thank_you          mobile  "
      ]
     },
     "execution_count": 228,
     "metadata": {},
     "output_type": "execute_result"
    }
   ],
   "source": [
    "### Dropping an unneccesary column\n",
    "df = df.drop(columns=['Unnamed: 0'])\n",
    "\n",
    "###Turn dates into datetime objects\n",
    "print(type(df['Date'][0]))\n",
    "#df['Date'] = pd.to_datetime(df['Date'], format='%Y%m%d')\n",
    "##Checking to make sure it worked\n",
    "print(type(df['Date'][0]))\n",
    "\n",
    "print(df.shape)\n",
    "df.head(5)"
   ]
  },
  {
   "cell_type": "code",
   "execution_count": 229,
   "metadata": {
    "scrolled": true
   },
   "outputs": [
    {
     "name": "stdout",
     "output_type": "stream",
     "text": [
      "<class 'str'>\n",
      "<class 'numpy.float64'>\n"
     ]
    },
    {
     "data": {
      "text/html": [
       "<div>\n",
       "<style scoped>\n",
       "    .dataframe tbody tr th:only-of-type {\n",
       "        vertical-align: middle;\n",
       "    }\n",
       "\n",
       "    .dataframe tbody tr th {\n",
       "        vertical-align: top;\n",
       "    }\n",
       "\n",
       "    .dataframe thead th {\n",
       "        text-align: right;\n",
       "    }\n",
       "</style>\n",
       "<table border=\"1\" class=\"dataframe\">\n",
       "  <thead>\n",
       "    <tr style=\"text-align: right;\">\n",
       "      <th></th>\n",
       "      <th>Transaction ID</th>\n",
       "      <th>Date</th>\n",
       "      <th>Product</th>\n",
       "      <th>Source</th>\n",
       "      <th>Count of Sessions</th>\n",
       "      <th>Quantity</th>\n",
       "      <th>Product Revenue</th>\n",
       "      <th>Landing Page</th>\n",
       "      <th>Device Category</th>\n",
       "    </tr>\n",
       "  </thead>\n",
       "  <tbody>\n",
       "    <tr>\n",
       "      <th>0</th>\n",
       "      <td>#11963</td>\n",
       "      <td>20191231</td>\n",
       "      <td>Accessory</td>\n",
       "      <td>knoji.com</td>\n",
       "      <td>5</td>\n",
       "      <td>1</td>\n",
       "      <td>25.0</td>\n",
       "      <td>/cart</td>\n",
       "      <td>desktop</td>\n",
       "    </tr>\n",
       "    <tr>\n",
       "      <th>1</th>\n",
       "      <td>#11963</td>\n",
       "      <td>20191231</td>\n",
       "      <td>Boat A</td>\n",
       "      <td>knoji.com</td>\n",
       "      <td>5</td>\n",
       "      <td>1</td>\n",
       "      <td>1599.0</td>\n",
       "      <td>/cart</td>\n",
       "      <td>desktop</td>\n",
       "    </tr>\n",
       "    <tr>\n",
       "      <th>2</th>\n",
       "      <td>#11960</td>\n",
       "      <td>20191230</td>\n",
       "      <td>Boat C</td>\n",
       "      <td>affirm.com</td>\n",
       "      <td>3</td>\n",
       "      <td>1</td>\n",
       "      <td>2199.0</td>\n",
       "      <td>/checkout/thank_you</td>\n",
       "      <td>mobile</td>\n",
       "    </tr>\n",
       "    <tr>\n",
       "      <th>3</th>\n",
       "      <td>#11960</td>\n",
       "      <td>20191230</td>\n",
       "      <td>Accessory</td>\n",
       "      <td>affirm.com</td>\n",
       "      <td>3</td>\n",
       "      <td>1</td>\n",
       "      <td>99.0</td>\n",
       "      <td>/checkout/thank_you</td>\n",
       "      <td>mobile</td>\n",
       "    </tr>\n",
       "    <tr>\n",
       "      <th>4</th>\n",
       "      <td>#11960</td>\n",
       "      <td>20191230</td>\n",
       "      <td>Accessory</td>\n",
       "      <td>affirm.com</td>\n",
       "      <td>3</td>\n",
       "      <td>1</td>\n",
       "      <td>110.0</td>\n",
       "      <td>/checkout/thank_you</td>\n",
       "      <td>mobile</td>\n",
       "    </tr>\n",
       "  </tbody>\n",
       "</table>\n",
       "</div>"
      ],
      "text/plain": [
       "  Transaction ID      Date    Product      Source  Count of Sessions  \\\n",
       "0         #11963  20191231  Accessory   knoji.com                  5   \n",
       "1         #11963  20191231     Boat A   knoji.com                  5   \n",
       "2         #11960  20191230     Boat C  affirm.com                  3   \n",
       "3         #11960  20191230  Accessory  affirm.com                  3   \n",
       "4         #11960  20191230  Accessory  affirm.com                  3   \n",
       "\n",
       "   Quantity  Product Revenue         Landing Page Device Category  \n",
       "0         1             25.0                /cart         desktop  \n",
       "1         1           1599.0                /cart         desktop  \n",
       "2         1           2199.0  /checkout/thank_you          mobile  \n",
       "3         1             99.0  /checkout/thank_you          mobile  \n",
       "4         1            110.0  /checkout/thank_you          mobile  "
      ]
     },
     "metadata": {},
     "output_type": "display_data"
    }
   ],
   "source": [
    "##Turn prices into numbers not strings\n",
    "print(type(df['Product Revenue'][0]))\n",
    "df['Product Revenue'] = df['Product Revenue'].str.replace(',','')\n",
    "df['Product Revenue'] = df['Product Revenue'].str.strip('[\\$,]')\n",
    "\n",
    "df['Product Revenue'] = pd.to_numeric(df['Product Revenue'])\n",
    "print(type(df['Product Revenue'][0]))\n",
    "\n",
    "display(df.head(5))\n",
    "\n",
    "### Now that I did all that, I realize that I probably will have to drop the Revenue column becuase it's a form of data leakage."
   ]
  },
  {
   "cell_type": "markdown",
   "metadata": {},
   "source": [
    "# Visualizations"
   ]
  },
  {
   "cell_type": "code",
   "execution_count": 230,
   "metadata": {},
   "outputs": [
    {
     "data": {
      "text/plain": [
       "[<matplotlib.lines.Line2D at 0x132736b10>]"
      ]
     },
     "execution_count": 230,
     "metadata": {},
     "output_type": "execute_result"
    },
    {
     "data": {
      "image/png": "[encoded data removed]",
      "text/plain": [
       "<Figure size 432x288 with 1 Axes>"
      ]
     },
     "metadata": {
      "needs_background": "light"
     },
     "output_type": "display_data"
    }
   ],
   "source": [
    "plt.plot(df['Date'], df['Product Revenue'])\n",
    "\n",
    "### But at least it makes a nicer looking plot"
   ]
  },
  {
   "cell_type": "code",
   "execution_count": 231,
   "metadata": {},
   "outputs": [
    {
     "data": {
      "image/png": "[encoded data removed]",
      "text/plain": [
       "<Figure size 432x288 with 1 Axes>"
      ]
     },
     "metadata": {
      "needs_background": "light"
     },
     "output_type": "display_data"
    }
   ],
   "source": [
    "plt.scatter(df['Date'], df['Product Revenue'], alpha =.01);"
   ]
  },
  {
   "cell_type": "code",
   "execution_count": 232,
   "metadata": {},
   "outputs": [
    {
     "data": {
      "image/png": "[encoded data removed]",
      "text/plain": [
       "<Figure size 432x288 with 1 Axes>"
      ]
     },
     "metadata": {
      "needs_background": "light"
     },
     "output_type": "display_data"
    }
   ],
   "source": [
    "import numpy as np\n",
    "plt.scatter(np.log(df['Count of Sessions']), df['Product Revenue'], alpha =.01);"
   ]
  },
  {
   "cell_type": "code",
   "execution_count": 233,
   "metadata": {},
   "outputs": [
    {
     "data": {
      "image/png": "[encoded data removed]",
      "text/plain": [
       "<Figure size 432x288 with 1 Axes>"
      ]
     },
     "metadata": {
      "needs_background": "light"
     },
     "output_type": "display_data"
    }
   ],
   "source": [
    "plt.scatter(np.log(df['Count of Sessions']), df['Product'], alpha =.01);"
   ]
  },
  {
   "cell_type": "markdown",
   "metadata": {},
   "source": [
    "# Building a model"
   ]
  },
  {
   "cell_type": "code",
   "execution_count": 234,
   "metadata": {},
   "outputs": [
    {
     "data": {
      "text/plain": [
       "Transaction ID        object\n",
       "Date                   int64\n",
       "Product               object\n",
       "Source                object\n",
       "Count of Sessions      int64\n",
       "Quantity               int64\n",
       "Product Revenue      float64\n",
       "Landing Page          object\n",
       "Device Category       object\n",
       "dtype: object"
      ]
     },
     "execution_count": 234,
     "metadata": {},
     "output_type": "execute_result"
    }
   ],
   "source": [
    "df.dtypes"
   ]
  },
  {
   "cell_type": "code",
   "execution_count": 235,
   "metadata": {},
   "outputs": [],
   "source": [
    "from sklearn.model_selection import train_test_split"
   ]
  },
  {
   "cell_type": "code",
   "execution_count": 236,
   "metadata": {},
   "outputs": [
    {
     "name": "stdout",
     "output_type": "stream",
     "text": [
      "(5696, 9)\n"
     ]
    },
    {
     "data": {
      "text/plain": [
       "(1425, 9)"
      ]
     },
     "execution_count": 236,
     "metadata": {},
     "output_type": "execute_result"
    }
   ],
   "source": [
    "train, test = train_test_split(df, train_size=0.80, test_size=0.20, \n",
    "                              stratify=df['Product'], random_state=42)\n",
    "\n",
    "print(train.shape)\n",
    "test.shape"
   ]
  },
  {
   "cell_type": "markdown",
   "metadata": {},
   "source": [
    "## A simple Random Forest"
   ]
  },
  {
   "cell_type": "code",
   "execution_count": 237,
   "metadata": {},
   "outputs": [],
   "source": [
    "# Arrange data into X features matrix and y target vector\n",
    "target = 'Product'\n",
    "X_train = train.drop(columns=target)\n",
    "y_train = train[target]\n",
    "\n",
    "X_test = test.drop(columns=target)\n",
    "y_test = test[target]"
   ]
  },
  {
   "cell_type": "code",
   "execution_count": 242,
   "metadata": {},
   "outputs": [
    {
     "name": "stdout",
     "output_type": "stream",
     "text": [
      "Validation Accuracy 0.9677192982456141\n"
     ]
    }
   ],
   "source": [
    "import category_encoders as ce\n",
    "from sklearn.impute import SimpleImputer\n",
    "from sklearn.ensemble import RandomForestClassifier\n",
    "from sklearn.model_selection import train_test_split\n",
    "from sklearn.pipeline import make_pipeline\n",
    "\n",
    "pipeline = make_pipeline(\n",
    "    ce.OrdinalEncoder(), \n",
    "    SimpleImputer(strategy='median'), \n",
    "    RandomForestClassifier(n_estimators=100, random_state=42, n_jobs=-1)\n",
    ")\n",
    "\n",
    "# Fit on train, score on test\n",
    "pipeline.fit(X_train, y_train)\n",
    "print('Test Accuracy', pipeline.score(X_test, y_test))"
   ]
  },
  {
   "cell_type": "code",
   "execution_count": null,
   "metadata": {},
   "outputs": [],
   "source": [
    "###NOTES: This doesn't like datetime objects. I commented it out above."
   ]
  },
  {
   "cell_type": "code",
   "execution_count": null,
   "metadata": {},
   "outputs": [],
   "source": [
    "### Wow, test accuracy of .967! Probably because I have the price in there, ultimate data leakage!"
   ]
  },
  {
   "cell_type": "code",
   "execution_count": 244,
   "metadata": {},
   "outputs": [
    {
     "data": {
      "image/png": "[encoded data removed]",
      "text/plain": [
       "<Figure size 720x720 with 1 Axes>"
      ]
     },
     "metadata": {
      "needs_background": "light"
     },
     "output_type": "display_data"
    }
   ],
   "source": [
    "# Get feature importances\n",
    "rf = pipeline.named_steps['randomforestclassifier']\n",
    "importances = pd.Series(rf.feature_importances_, X_train.columns)\n",
    "\n",
    "# Plot feature importances\n",
    "%matplotlib inline\n",
    "import matplotlib.pyplot as plt\n",
    "\n",
    "n = 20\n",
    "plt.figure(figsize=(10,n/2))\n",
    "plt.title(f'Top {n} features')\n",
    "importances.sort_values()[-n:].plot.barh(color='grey');\n",
    "\n",
    "\n",
    "###HAHAHA yes, turns out the revenue is a great predictor of what kind of product it is!"
   ]
  },
  {
   "cell_type": "markdown",
   "metadata": {},
   "source": [
    "## Now for an XGBOOST"
   ]
  },
  {
   "cell_type": "code",
   "execution_count": 247,
   "metadata": {},
   "outputs": [
    {
     "data": {
      "text/plain": [
       "Pipeline(memory=None,\n",
       "         steps=[('ordinalencoder',\n",
       "                 OrdinalEncoder(cols=['Transaction ID', 'Source',\n",
       "                                      'Landing Page', 'Device Category'],\n",
       "                                drop_invariant=False, handle_missing='value',\n",
       "                                handle_unknown='value',\n",
       "                                mapping=[{'col': 'Transaction ID',\n",
       "                                          'data_type': dtype('O'),\n",
       "                                          'mapping': #9984        1\n",
       "#10328       2\n",
       "#11228       3\n",
       "#9648        4\n",
       "#10719       5\n",
       "          ... \n",
       "#8112     3025\n",
       "#8373     3026\n",
       "#8495     3027\n",
       "#10417    3028\n",
       "NaN         -2\n",
       "Length: 3029, dtyp...\n",
       "                 XGBClassifier(base_score=0.5, booster='gbtree',\n",
       "                               colsample_bylevel=1, colsample_bynode=1,\n",
       "                               colsample_bytree=1, gamma=0, learning_rate=0.1,\n",
       "                               max_delta_step=0, max_depth=3,\n",
       "                               min_child_weight=1, missing=None,\n",
       "                               n_estimators=100, n_jobs=-1, nthread=None,\n",
       "                               objective='multi:softprob', random_state=42,\n",
       "                               reg_alpha=0, reg_lambda=1, scale_pos_weight=1,\n",
       "                               seed=None, silent=None, subsample=1,\n",
       "                               verbosity=1))],\n",
       "         verbose=False)"
      ]
     },
     "execution_count": 247,
     "metadata": {},
     "output_type": "execute_result"
    }
   ],
   "source": [
    "from xgboost import XGBClassifier\n",
    "\n",
    "pipeline = make_pipeline(\n",
    "    ce.OrdinalEncoder(),\n",
    "    XGBClassifier(n_estimators=100, random_state=42, n_jobs=-1)\n",
    ")\n",
    "\n",
    "pipeline.fit(X_train, y_train)\n"
   ]
  },
  {
   "cell_type": "code",
   "execution_count": 248,
   "metadata": {},
   "outputs": [
    {
     "name": "stdout",
     "output_type": "stream",
     "text": [
      "Validation Accuracy 0.9866666666666667\n"
     ]
    }
   ],
   "source": [
    "\n",
    "from sklearn.metrics import accuracy_score\n",
    "y_pred = pipeline.predict(X_test)\n",
    "print('Validation Accuracy', accuracy_score(y_test, y_pred))\n",
    "\n",
    "###Sick. I'm so accurate."
   ]
  },
  {
   "cell_type": "markdown",
   "metadata": {},
   "source": [
    "# Checking my work"
   ]
  },
  {
   "cell_type": "code",
   "execution_count": 239,
   "metadata": {},
   "outputs": [
    {
     "data": {
      "text/plain": [
       "1599.00    295\n",
       "1359.15     97\n",
       "1399.00     68\n",
       "3198.00     39\n",
       "1360.00     31\n",
       "1190.00     13\n",
       "1299.00     11\n",
       "20.00        9\n",
       "1279.20      9\n",
       "2798.00      8\n",
       "2718.30      6\n",
       "2720.00      4\n",
       "4797.00      3\n",
       "1100.00      3\n",
       "70.00        3\n",
       "60.00        2\n",
       "2598.00      2\n",
       "40.00        2\n",
       "650.00       1\n",
       "2558.40      1\n",
       "265.00       1\n",
       "80.00        1\n",
       "2380.00      1\n",
       "Name: Product Revenue, dtype: int64"
      ]
     },
     "execution_count": 239,
     "metadata": {},
     "output_type": "execute_result"
    }
   ],
   "source": [
    "test_frame = df[df['Product']=='Boat A']\n",
    "\n",
    "test_frame['Product Revenue'].value_counts()\n",
    "\n",
    "#### There are a few weird outliers, and quite a few where the person bought two boats. I need to find a way to split this into 2 seperate transactions."
   ]
  },
  {
   "cell_type": "code",
   "execution_count": 240,
   "metadata": {},
   "outputs": [
    {
     "data": {
      "text/plain": [
       "99.00      True\n",
       "199.00    False\n",
       "25.00     False\n",
       "70.00     False\n",
       "30.00     False\n",
       "          ...  \n",
       "14.84     False\n",
       "43.60     False\n",
       "280.00    False\n",
       "55.80     False\n",
       "11.90     False\n",
       "Name: Product Revenue, Length: 121, dtype: bool"
      ]
     },
     "execution_count": 240,
     "metadata": {},
     "output_type": "execute_result"
    }
   ],
   "source": [
    "test_frame = df[df['Product']=='Accessory']\n",
    "\n",
    "test_frame['Product Revenue'].value_counts(ascending=False) > 1000"
   ]
  },
  {
   "cell_type": "code",
   "execution_count": 241,
   "metadata": {},
   "outputs": [],
   "source": [
    "\n",
    "### TODO\n",
    "## Double check my wrangling and cleaning functions to make sure that the buckets are accurate (consistent with the new metrics I just imported this evening)\n",
    "\n",
    "### Could get twice as much data if I could figure out what's up with the 'Product Revenue' metric on Google Analytics\n",
    "\n",
    "### Add in more features by exporting more csv's from Google Analytics"
   ]
  }
 ],
 "metadata": {
  "kernelspec": {
   "display_name": "Python 3",
   "language": "python",
   "name": "python3"
  },
  "language_info": {
   "codemirror_mode": {
    "name": "ipython",
    "version": 3
   },
   "file_extension": ".py",
   "mimetype": "text/x-python",
   "name": "python",
   "nbconvert_exporter": "python",
   "pygments_lexer": "ipython3",
   "version": "3.7.6"
  }
 },
 "nbformat": 4,
 "nbformat_minor": 4
}
